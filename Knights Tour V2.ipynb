{
 "cells": [
  {
   "cell_type": "code",
   "execution_count": 88,
   "id": "a210d2fd",
   "metadata": {},
   "outputs": [
    {
     "name": "stdout",
     "output_type": "stream",
     "text": [
      "32 \t29 \t16 \t19 \t34 \t39 \t14 \t21 \t\n",
      "17 \t2 \t33 \t30 \t15 \t20 \t35 \t38 \t\n",
      "28 \t31 \t18 \t1 \t40 \t37 \t22 \t13 \t\n",
      "3 \t58 \t53 \t46 \t23 \t60 \t41 \t36 \t\n",
      "54 \t27 \t4 \t59 \t64 \t45 \t12 \t61 \t\n",
      "57 \t52 \t55 \t24 \t47 \t62 \t9 \t42 \t\n",
      "26 \t5 \t50 \t63 \t44 \t7 \t48 \t11 \t\n",
      "51 \t56 \t25 \t6 \t49 \t10 \t43 \t8 \t\n"
     ]
    }
   ],
   "source": [
    "move_x = [1, 1, 2, 2, -1, -1, -2, -2] \n",
    "move_y = [2, -2, 1, -1, 2, -2, 1, -1]\n",
    "#Is neighbour the starting position?\n",
    "def neighbour(x,y,sx,sy,move_x,move_y):\n",
    "    for i in range(8):\n",
    "        if(x + move_x[i] == sx and y + move_y[i] == sy):\n",
    "            return True\n",
    "    return False\n",
    "def isSafe(x,y):\n",
    "    if(x >= 0 and y >=0):\n",
    "        if(x <= 7 and y <= 7):\n",
    "            return True\n",
    "    return False\n",
    "\n",
    "def empty(x,y, board):\n",
    "    if(isSafe(x,y)):\n",
    "        if(board[y*8+x] < 0):\n",
    "            return True\n",
    "    return False\n",
    "def degree(board, x, y,move_x,move_y):\n",
    "    count = 0\n",
    "    i = 0\n",
    "    for i in range(7):\n",
    "        if(empty(x+move_x[i],y+move_y[i], board)):\n",
    "            count += 1\n",
    "        i += 1\n",
    "    return count\n",
    "def move(board,x,y,move_x,move_y,sx,sy):\n",
    "    min_degree_index = -1\n",
    "    min_degree = 8\n",
    "    c = 0\n",
    "    for i in range(8):\n",
    "        newx = x + move_x[i]\n",
    "        newy = y + move_y[i]\n",
    "        if(empty(newx,newy,board)):\n",
    "            c = degree(board,newx,newy,move_x,move_y)\n",
    "            if(c < min_degree):\n",
    "                min_degree_index = i\n",
    "                min_degree = c\n",
    "    if(min_degree_index == -1):\n",
    "        return -1,-1, -1\n",
    "    newx = x + move_x[min_degree_index]\n",
    "    newy = y + move_y[min_degree_index]\n",
    "    \n",
    "    #Assign number on board\n",
    "    board[newy*8+newx] = board[y*8+x]+1\n",
    "    \n",
    "    return newx,newy, board\n",
    "\n",
    "def tour(move_x,move_y):\n",
    "    board = [-1] * (64)\n",
    "    sx = random.randint(0,7)\n",
    "    sy = random.randint(0,7)\n",
    "    board[sy*8+sx] = 1\n",
    "    newx = sx\n",
    "    newy = sy\n",
    "    for i in range(63):\n",
    "        newx, newy, board = move(board,newx,newy,move_x,move_y,sx,sy)\n",
    "        if(newx == -1 and newy == -1):\n",
    "            return False\n",
    "            \n",
    "    if(not neighbour(newx,newy,sx,sy,move_x,move_y)):\n",
    "        return False\n",
    "    i =0\n",
    "    j = 0\n",
    "    while (i < 8) :\n",
    "      j = 0\n",
    "      while (j < 8) :\n",
    "        print(board[j * 8 + i] ,\"\\t\", end = \"\")\n",
    "        j += 1\n",
    "      \n",
    "      print(\"\\n\", end = \"\")\n",
    "      i += 1\n",
    "    return True    \n",
    "while(not tour(move_x,move_y)):\n",
    "    pass"
   ]
  },
  {
   "cell_type": "code",
   "execution_count": null,
   "id": "a98ff06b",
   "metadata": {},
   "outputs": [],
   "source": []
  },
  {
   "cell_type": "code",
   "execution_count": null,
   "id": "df352839",
   "metadata": {},
   "outputs": [],
   "source": []
  },
  {
   "cell_type": "code",
   "execution_count": null,
   "id": "75c8cd61",
   "metadata": {},
   "outputs": [],
   "source": []
  }
 ],
 "metadata": {
  "kernelspec": {
   "display_name": "Python 3 (ipykernel)",
   "language": "python",
   "name": "python3"
  },
  "language_info": {
   "codemirror_mode": {
    "name": "ipython",
    "version": 3
   },
   "file_extension": ".py",
   "mimetype": "text/x-python",
   "name": "python",
   "nbconvert_exporter": "python",
   "pygments_lexer": "ipython3",
   "version": "3.8.5"
  }
 },
 "nbformat": 4,
 "nbformat_minor": 5
}
